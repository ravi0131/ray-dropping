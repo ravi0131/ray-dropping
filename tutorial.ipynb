{
 "cells": [
  {
   "cell_type": "markdown",
   "metadata": {},
   "source": [
    "### Calculating Beam-Id for all points"
   ]
  },
  {
   "cell_type": "code",
   "execution_count": 2,
   "metadata": {},
   "outputs": [],
   "source": [
    "import os\n",
    "import numpy as np\n",
    "# CONFIGURATION\n",
    "DATA_PATH = os.path.join('buni','dataset','pandaset')\n",
    "SCENE_IDX = 3\n",
    "FRAME_IDX = 70\n",
    "GROUND_LABELS = np.array([6, 7, 8, 9, 10, 11, 12, 34, 35, 37, 38, 39])\n",
    "user_home = os.path.expanduser('~') \n",
    "dataset_path = os.path.join(user_home,DATA_PATH)"
   ]
  },
  {
   "cell_type": "code",
   "execution_count": null,
   "metadata": {},
   "outputs": [],
   "source": [
    "from pandaset import DataSet\n",
    "import logging\n",
    "\n",
    "dataset = DataSet(dataset_path)\n",
    "scenes_with_semantic_labels = sorted(dataset.sequences(with_semseg=True), key=int)\n",
    "print(f\"List of sequences available with semantic segmentation:\\n{scenes_with_semantic_labels}\")\n",
    "scene = dataset[scenes_with_semantic_labels[SCENE_IDX]]\n",
    "print(f\"Selected scene/sequence: {scenes_with_semantic_labels[SCENE_IDX]}\")\n",
    "scene.load_lidar()\n",
    "scene.load_semseg()\n",
    "logger = logging.getLogger(__name__)\n",
    "logging.info(f\"Loaded scene {SCENE_IDX} with frame {FRAME_IDX}\")\n",
    "lidar_data = scene.lidar.data[FRAME_IDX]\n",
    "lidar_poses = scene.lidar.poses[FRAME_IDX]\n",
    "labels = scene.semseg.data[FRAME_IDX]\n",
    "\n",
    "from general_utils import pandaset_utils as pdutils\n",
    "from general_utils import gen_utils\n",
    "\n",
    "gen_utils.check_type(lidar_data,\"lidar_data\", logger)\n",
    "gen_utils.check_type(labels,\"labels\", logger)\n",
    "\n",
    "lidar_data, lidar_labels = pdutils.cleanup_lidar_data_and_labels(lidar_data, labels, lidar_poses,logger)\n",
    "\n",
    "logger.info(f\"Shape of lidar_data before reshaping: {lidar_data.shape}\")\n",
    "gen_utils.check_type(lidar_data,\"lidar_data\",logger)\n",
    "lidar_points = lidar_data.iloc[:,:3].to_numpy()\n",
    "lidar_points = lidar_points.astype('float64')\n",
    "logger.info(f\"Shape of lidar_data after reshaping: {lidar_points.shape}\")\n",
    "gen_utils.check_type(lidar_points,\"lidar_points\",logger)"
   ]
  },
  {
   "cell_type": "code",
   "execution_count": 5,
   "metadata": {},
   "outputs": [],
   "source": [
    "import pandas as pd\n",
    "import os\n",
    "from general_utils import pandaset_utils as pdutils\n",
    "import ray_dropping as ray_dropper\n",
    "\n",
    "corrections_file = os.path.join(os.getcwd(),'Pandar64_Angle_Correction_File.csv')\n",
    "corrections = pd.read_csv(corrections_file)\n",
    "\n",
    "beam_ids, _, _ = pdutils.calculate_beamIds(lidar_points,corrections, True)\n",
    "\n",
    "lidar_points_with_beam_ids = lidar_points_with_beam_ids = np.hstack((lidar_points, beam_ids.reshape(-1, 1)))\n",
    "\n",
    "augmented_points = ray_dropper.drop_rays(lidar_points_with_beam_ids)\n",
    "\n",
    "from general_utils import gen_utils\n",
    "\n",
    "gen_utils.visualize_beam_ids(augmented_points[:,:3], augmented_points[:,3])"
   ]
  }
 ],
 "metadata": {
  "kernelspec": {
   "display_name": "task22",
   "language": "python",
   "name": "python3"
  },
  "language_info": {
   "codemirror_mode": {
    "name": "ipython",
    "version": 3
   },
   "file_extension": ".py",
   "mimetype": "text/x-python",
   "name": "python",
   "nbconvert_exporter": "python",
   "pygments_lexer": "ipython3",
   "version": "3.11.9"
  }
 },
 "nbformat": 4,
 "nbformat_minor": 2
}
